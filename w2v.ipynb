{
 "cells": [
  {
   "cell_type": "code",
   "execution_count": 48,
   "id": "aa811aa6-34e3-4ffb-8d0c-5034d4f9805d",
   "metadata": {},
   "outputs": [],
   "source": [
    "from janome.tokenizer import Tokenizer\n",
    "from gensim.models import Word2Vec\n",
    "from tqdm import tqdm\n",
    "import torch\n",
    "from reformer_pytorch import LSHSelfAttention\n",
    "from reformer_pytorch import LSHAttention"
   ]
  },
  {
   "cell_type": "code",
   "execution_count": 8,
   "id": "10e1ba28-52c7-46b0-9675-f5adc71dde02",
   "metadata": {},
   "outputs": [],
   "source": [
    "janome_tokenizer = Tokenizer()"
   ]
  },
  {
   "cell_type": "code",
   "execution_count": 20,
   "id": "c4a8d16a-786d-472d-8c8a-de5522acbd68",
   "metadata": {},
   "outputs": [
    {
     "name": "stderr",
     "output_type": "stream",
     "text": [
      "                                                                                                                                                                                                            \r"
     ]
    }
   ],
   "source": [
    "def parse():\n",
    "\tsentences = []\n",
    "\twith open(\"./dialogs/corpus_1.txt\", \"r\") as f:\n",
    "\t\tcontents = f.read().split(\"\\n\")\n",
    "\t\tfor content in tqdm(contents[-10000:], leave=False):\n",
    "\t\t\tif len(content.split(\"[SEP]\")) > 2:\n",
    "\t\t\t\t_, _, utterance = content.split(\"[SEP]\")\n",
    "\t\t\t\tutterance = [t.surface for t in janome_tokenizer.tokenize(utterance)]\n",
    "\t\t\t\tif len(utterance) > 0:\n",
    "\t\t\t\t\tsentences.append(utterance)\n",
    "\n",
    "\treturn sentences\n",
    "\n",
    "def train(datas):\n",
    "\tmodel = Word2Vec(datas, vector_size=128, epochs=10, min_count=0)\n",
    "\tmodel.save(\"./models/embedding.w2v\")\n",
    "\treturn model\n",
    "\n",
    "def load():\n",
    "\tmodel = Word2Vec(parse(), vector_size=128, epochs=10, min_count=0)\n",
    "\tmodel.load(\"./models/embedding.w2v\")\n",
    "\treturn model\n",
    "\n",
    "sentences = parse()\n",
    "model     = train(sentences)"
   ]
  },
  {
   "cell_type": "code",
   "execution_count": 10,
   "id": "d24c4cf0-b049-4b08-9a23-31530f7cab20",
   "metadata": {},
   "outputs": [],
   "source": [
    "def get_vector(sentence):\n",
    "    return [model.wv.get_vector(w) for w in sentence]\n",
    "\n",
    "def sentence_range(f, e):\n",
    "    tmp = []\n",
    "    for i in range(e):\n",
    "        tmp += sentences[f+i] + [\"。\"]\n",
    "        \n",
    "    return tmp\n",
    "\n",
    "def get_data(n, r=3):\n",
    "    i = sentence_range(n, r)\n",
    "    return i, sentences[n+r+1], get_vector(i), get_vector(sentences[n+r+1])"
   ]
  },
  {
   "cell_type": "code",
   "execution_count": 21,
   "id": "8f72ed38-b88c-42ac-ae02-7feb6bfe856a",
   "metadata": {},
   "outputs": [
    {
     "name": "stdout",
     "output_type": "stream",
     "text": [
      "まだ寝てたい …。…zzZ。冷えタオ。\n",
      "9℃か……暖かいな\n"
     ]
    }
   ],
   "source": [
    "x, y, x_vec, y_vec = get_data(4346)\n",
    "print(\"\".join(x))\n",
    "print(\"\".join(y))"
   ]
  },
  {
   "cell_type": "code",
   "execution_count": 52,
   "id": "b387f48c-9c39-4592-82e5-b0c55cef6dd0",
   "metadata": {},
   "outputs": [],
   "source": [
    "attention = LSHAttention(bucket_size=1)"
   ]
  },
  {
   "cell_type": "code",
   "execution_count": 55,
   "id": "df585683-c7de-4688-ad26-aa07a3955588",
   "metadata": {},
   "outputs": [
    {
     "ename": "RuntimeError",
     "evalue": "index 13 is out of bounds for dimension 1 with size 10",
     "output_type": "error",
     "traceback": [
      "\u001b[0;31m---------------------------------------------------------------------------\u001b[0m",
      "\u001b[0;31mRuntimeError\u001b[0m                              Traceback (most recent call last)",
      "Input \u001b[0;32mIn [55]\u001b[0m, in \u001b[0;36m<cell line: 7>\u001b[0;34m()\u001b[0m\n\u001b[1;32m      4\u001b[0m     y_vec \u001b[38;5;241m=\u001b[39m torch\u001b[38;5;241m.\u001b[39mtensor([y_vec])\n\u001b[1;32m      6\u001b[0m     \u001b[38;5;28;01mreturn\u001b[39;00m attention(x_vec, y_vec)\n\u001b[0;32m----> 7\u001b[0m \u001b[43mcalculate_attention\u001b[49m\u001b[43m(\u001b[49m\u001b[38;5;241;43m4348\u001b[39;49m\u001b[43m)\u001b[49m\n",
      "Input \u001b[0;32mIn [55]\u001b[0m, in \u001b[0;36mcalculate_attention\u001b[0;34m(n)\u001b[0m\n\u001b[1;32m      3\u001b[0m x_vec \u001b[38;5;241m=\u001b[39m torch\u001b[38;5;241m.\u001b[39mtensor([x_vec])\n\u001b[1;32m      4\u001b[0m y_vec \u001b[38;5;241m=\u001b[39m torch\u001b[38;5;241m.\u001b[39mtensor([y_vec])\n\u001b[0;32m----> 6\u001b[0m \u001b[38;5;28;01mreturn\u001b[39;00m \u001b[43mattention\u001b[49m\u001b[43m(\u001b[49m\u001b[43mx_vec\u001b[49m\u001b[43m,\u001b[49m\u001b[43m \u001b[49m\u001b[43my_vec\u001b[49m\u001b[43m)\u001b[49m\n",
      "File \u001b[0;32m~/opt/anaconda3/lib/python3.9/site-packages/torch/nn/modules/module.py:1130\u001b[0m, in \u001b[0;36mModule._call_impl\u001b[0;34m(self, *input, **kwargs)\u001b[0m\n\u001b[1;32m   1126\u001b[0m \u001b[38;5;66;03m# If we don't have any hooks, we want to skip the rest of the logic in\u001b[39;00m\n\u001b[1;32m   1127\u001b[0m \u001b[38;5;66;03m# this function, and just call forward.\u001b[39;00m\n\u001b[1;32m   1128\u001b[0m \u001b[38;5;28;01mif\u001b[39;00m \u001b[38;5;129;01mnot\u001b[39;00m (\u001b[38;5;28mself\u001b[39m\u001b[38;5;241m.\u001b[39m_backward_hooks \u001b[38;5;129;01mor\u001b[39;00m \u001b[38;5;28mself\u001b[39m\u001b[38;5;241m.\u001b[39m_forward_hooks \u001b[38;5;129;01mor\u001b[39;00m \u001b[38;5;28mself\u001b[39m\u001b[38;5;241m.\u001b[39m_forward_pre_hooks \u001b[38;5;129;01mor\u001b[39;00m _global_backward_hooks\n\u001b[1;32m   1129\u001b[0m         \u001b[38;5;129;01mor\u001b[39;00m _global_forward_hooks \u001b[38;5;129;01mor\u001b[39;00m _global_forward_pre_hooks):\n\u001b[0;32m-> 1130\u001b[0m     \u001b[38;5;28;01mreturn\u001b[39;00m \u001b[43mforward_call\u001b[49m\u001b[43m(\u001b[49m\u001b[38;5;241;43m*\u001b[39;49m\u001b[38;5;28;43minput\u001b[39;49m\u001b[43m,\u001b[49m\u001b[43m \u001b[49m\u001b[38;5;241;43m*\u001b[39;49m\u001b[38;5;241;43m*\u001b[39;49m\u001b[43mkwargs\u001b[49m\u001b[43m)\u001b[49m\n\u001b[1;32m   1131\u001b[0m \u001b[38;5;66;03m# Do not call functions when jit is used\u001b[39;00m\n\u001b[1;32m   1132\u001b[0m full_backward_hooks, non_full_backward_hooks \u001b[38;5;241m=\u001b[39m [], []\n",
      "File \u001b[0;32m~/opt/anaconda3/lib/python3.9/site-packages/reformer_pytorch/reformer_pytorch.py:300\u001b[0m, in \u001b[0;36mLSHAttention.forward\u001b[0;34m(self, qk, v, query_len, input_mask, input_attn_mask, pos_emb, **kwargs)\u001b[0m\n\u001b[1;32m    298\u001b[0m st \u001b[38;5;241m=\u001b[39m (sticker \u001b[38;5;241m%\u001b[39m seqlen)\n\u001b[1;32m    299\u001b[0m sqk \u001b[38;5;241m=\u001b[39m batched_index_select(qk, st)\n\u001b[0;32m--> 300\u001b[0m sv \u001b[38;5;241m=\u001b[39m \u001b[43mbatched_index_select\u001b[49m\u001b[43m(\u001b[49m\u001b[43mv\u001b[49m\u001b[43m,\u001b[49m\u001b[43m \u001b[49m\u001b[43mst\u001b[49m\u001b[43m)\u001b[49m\n\u001b[1;32m    302\u001b[0m \u001b[38;5;66;03m# Split off a \"bin\" axis so that attention only occurs within chunks.\u001b[39;00m\n\u001b[1;32m    303\u001b[0m chunk_size \u001b[38;5;241m=\u001b[39m total_hashes \u001b[38;5;241m*\u001b[39m n_buckets\n",
      "File \u001b[0;32m~/opt/anaconda3/lib/python3.9/site-packages/reformer_pytorch/reformer_pytorch.py:34\u001b[0m, in \u001b[0;36mbatched_index_select\u001b[0;34m(values, indices)\u001b[0m\n\u001b[1;32m     32\u001b[0m \u001b[38;5;28;01mdef\u001b[39;00m \u001b[38;5;21mbatched_index_select\u001b[39m(values, indices):\n\u001b[1;32m     33\u001b[0m     last_dim \u001b[38;5;241m=\u001b[39m values\u001b[38;5;241m.\u001b[39mshape[\u001b[38;5;241m-\u001b[39m\u001b[38;5;241m1\u001b[39m]\n\u001b[0;32m---> 34\u001b[0m     \u001b[38;5;28;01mreturn\u001b[39;00m \u001b[43mvalues\u001b[49m\u001b[38;5;241;43m.\u001b[39;49m\u001b[43mgather\u001b[49m\u001b[43m(\u001b[49m\u001b[38;5;241;43m1\u001b[39;49m\u001b[43m,\u001b[49m\u001b[43m \u001b[49m\u001b[43mindices\u001b[49m\u001b[43m[\u001b[49m\u001b[43m:\u001b[49m\u001b[43m,\u001b[49m\u001b[43m \u001b[49m\u001b[43m:\u001b[49m\u001b[43m,\u001b[49m\u001b[43m \u001b[49m\u001b[38;5;28;43;01mNone\u001b[39;49;00m\u001b[43m]\u001b[49m\u001b[38;5;241;43m.\u001b[39;49m\u001b[43mexpand\u001b[49m\u001b[43m(\u001b[49m\u001b[38;5;241;43m-\u001b[39;49m\u001b[38;5;241;43m1\u001b[39;49m\u001b[43m,\u001b[49m\u001b[43m \u001b[49m\u001b[38;5;241;43m-\u001b[39;49m\u001b[38;5;241;43m1\u001b[39;49m\u001b[43m,\u001b[49m\u001b[43m \u001b[49m\u001b[43mlast_dim\u001b[49m\u001b[43m)\u001b[49m\u001b[43m)\u001b[49m\n",
      "\u001b[0;31mRuntimeError\u001b[0m: index 13 is out of bounds for dimension 1 with size 10"
     ]
    }
   ],
   "source": [
    "def calculate_attention(n):\n",
    "    x, y, x_vec, y_vec = get_data(n) # x=v, y=qk yからxを重み付け\n",
    "    x_vec = torch.tensor([x_vec])\n",
    "    y_vec = torch.tensor([y_vec])\n",
    "    \n",
    "    return attention(x_vec, y_vec)\n",
    "calculate_attention(4348)"
   ]
  },
  {
   "cell_type": "markdown",
   "id": "8f5e361a-340c-4d99-ac66-12b067227bd8",
   "metadata": {},
   "source": [
    "検索真ん中はめちゃいいですね。デザイン悪いほうがいいというのは絶対ないと思うのでこういうの増えてほしいなと。なんか洗練された感あります。\n",
    "重要なお知らせを最も目につく検索の下においてるあたり相当すごい人がデザインしてるのかもしれない（小並感）\n",
    "上と下をSelfAttention, weight<n以下を0"
   ]
  },
  {
   "cell_type": "code",
   "execution_count": null,
   "id": "053c33e8-581b-4147-96ce-bbfb29c3cfdd",
   "metadata": {},
   "outputs": [],
   "source": []
  }
 ],
 "metadata": {
  "kernelspec": {
   "display_name": "Python 3 (ipykernel)",
   "language": "python",
   "name": "python3"
  },
  "language_info": {
   "codemirror_mode": {
    "name": "ipython",
    "version": 3
   },
   "file_extension": ".py",
   "mimetype": "text/x-python",
   "name": "python",
   "nbconvert_exporter": "python",
   "pygments_lexer": "ipython3",
   "version": "3.9.12"
  }
 },
 "nbformat": 4,
 "nbformat_minor": 5
}
