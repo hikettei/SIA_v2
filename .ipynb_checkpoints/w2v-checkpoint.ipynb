{
 "cells": [
  {
   "cell_type": "code",
   "execution_count": 9,
   "id": "aa811aa6-34e3-4ffb-8d0c-5034d4f9805d",
   "metadata": {},
   "outputs": [],
   "source": [
    "from janome.tokenizer import Tokenizer\n",
    "from gensim.models import Word2Vec\n",
    "from tqdm import tqdm"
   ]
  },
  {
   "cell_type": "code",
   "execution_count": 2,
   "id": "10e1ba28-52c7-46b0-9675-f5adc71dde02",
   "metadata": {},
   "outputs": [],
   "source": [
    "janome_tokenizer = Tokenizer()"
   ]
  },
  {
   "cell_type": "code",
   "execution_count": 3,
   "id": "c4a8d16a-786d-472d-8c8a-de5522acbd68",
   "metadata": {},
   "outputs": [
    {
     "name": "stderr",
     "output_type": "stream",
     "text": [
      "                                                                                                                                                                                                            \r"
     ]
    }
   ],
   "source": [
    "def parse():\n",
    "\tsentences = []\n",
    "\twith open(\"./dialogs/corpus_1.txt\", \"r\") as f:\n",
    "\t\tcontents = f.read().split(\"\\n\")\n",
    "\t\tfor content in tqdm(contents[-50000:], leave=False):\n",
    "\t\t\tif len(content.split(\"[SEP]\")) > 2:\n",
    "\t\t\t\t_, _, utterance = content.split(\"[SEP]\")\n",
    "\t\t\t\tutterance = [t.surface for t in janome_tokenizer.tokenize(utterance)]\n",
    "\t\t\t\tif len(utterance) > 0:\n",
    "\t\t\t\t\tsentences.append(utterance)\n",
    "\n",
    "\treturn sentences\n",
    "\n",
    "def train(datas):\n",
    "\tmodel = Word2Vec(datas, vector_size=128, epochs=10, min_count=0)\n",
    "\tmodel.save(\"./models/embedding.w2v\")\n",
    "\treturn model\n",
    "\n",
    "def load():\n",
    "\tmodel = Word2Vec(parse(), vector_size=128, epochs=10, min_count=0)\n",
    "\tmodel.load(\"./models/embedding.w2v\")\n",
    "\treturn model\n",
    "\n",
    "sentences = parse()\n",
    "model     = train(sentences)"
   ]
  },
  {
   "cell_type": "code",
   "execution_count": 4,
   "id": "d24c4cf0-b049-4b08-9a23-31530f7cab20",
   "metadata": {},
   "outputs": [],
   "source": [
    "def get_vector(sentence):\n",
    "    return [model.wv.get_vector(w) for w in sentence]\n",
    "\n",
    "def sentence_range(f, e):\n",
    "    tmp = []\n",
    "    for i in range(e):\n",
    "        tmp += sentences[f+i] + [\"。\"]\n",
    "        \n",
    "    return tmp\n",
    "\n",
    "def get_data(n, r=3):\n",
    "    i = sentence_range(n, r)\n",
    "    return i, sentences[n+r+1], get_vector(i), get_vector(sentences[n+r+1])"
   ]
  },
  {
   "cell_type": "code",
   "execution_count": 5,
   "id": "8f72ed38-b88c-42ac-ae02-7feb6bfe856a",
   "metadata": {},
   "outputs": [
    {
     "name": "stdout",
     "output_type": "stream",
     "text": [
      "検索真ん中はめちゃいいですね。デザイン悪いほうがいいというのは絶対ないと思うのでこういうの増えてほしいなと。なんか洗練された感あります。\n",
      "重要なお知らせを最も目につく検索の下においてるあたり相当すごい人がデザインしてるのかもしれない（小並感）\n"
     ]
    }
   ],
   "source": [
    "x, y, x_vec, y_vec = get_data(4902)\n",
    "print(\"\".join(x))\n",
    "print(\"\".join(y))"
   ]
  },
  {
   "cell_type": "code",
   "execution_count": 7,
   "id": "df585683-c7de-4688-ad26-aa07a3955588",
   "metadata": {},
   "outputs": [],
   "source": [
    "def calculate_attention(n):\n",
    "    x, y, x_vec, y_vec = get_data(n) # x=v, y=qk yからxを重み付け\n",
    "    \n",
    "    pass"
   ]
  },
  {
   "cell_type": "markdown",
   "id": "8f5e361a-340c-4d99-ac66-12b067227bd8",
   "metadata": {},
   "source": [
    "検索真ん中はめちゃいいですね。デザイン悪いほうがいいというのは絶対ないと思うのでこういうの増えてほしいなと。なんか洗練された感あります。\n",
    "\n",
    "\n",
    "重要なお知らせを最も目につく検索の下においてるあたり相当すごい人がデザインしてるのかもしれない（小並感）"
   ]
  }
 ],
 "metadata": {
  "kernelspec": {
   "display_name": "Python 3 (ipykernel)",
   "language": "python",
   "name": "python3"
  },
  "language_info": {
   "codemirror_mode": {
    "name": "ipython",
    "version": 3
   },
   "file_extension": ".py",
   "mimetype": "text/x-python",
   "name": "python",
   "nbconvert_exporter": "python",
   "pygments_lexer": "ipython3",
   "version": "3.9.12"
  }
 },
 "nbformat": 4,
 "nbformat_minor": 5
}
